{
 "cells": [
  {
   "cell_type": "code",
   "execution_count": 61,
   "id": "6697a460",
   "metadata": {},
   "outputs": [],
   "source": [
    "import sys\n",
    "import os\n",
    "\n",
    "module_path = os.path.abspath(os.path.join('..'))\n",
    "if module_path not in sys.path:\n",
    "    sys.path.append(module_path+\"utils.py\")\n",
    "    \n",
    "import utils\n",
    "import pandas as pd\n",
    "import matplotlib.pyplot as plt\n",
    "\n",
    "plt.style.use('ggplot')"
   ]
  },
  {
   "cell_type": "code",
   "execution_count": 62,
   "id": "d5327b47",
   "metadata": {},
   "outputs": [
    {
     "name": "stdout",
     "output_type": "stream",
     "text": [
      "Training data - 33600 samples (80.0%)\n",
      " -\n",
      "Validation data - 4200 samples (10.0%)\n",
      " -\n",
      "Training data - 4200 samples (10%)\n"
     ]
    }
   ],
   "source": [
    "data = pd.read_csv('../data/mnist_digits.csv')\n",
    "\n",
    "train_size = .8\n",
    "valid_size = .1\n",
    "\n",
    "X_train, y_train, X_test, y_test, X_valid, y_valid = utils.train_test_valid_split(data, \n",
    "                                                                            train_size = train_size, \n",
    "                                                                            valid_size = valid_size, \n",
    "                                                                            random_state = 0)\n",
    "\n",
    "print(f'Training data - {X_train.shape[1]} samples ({train_size*100}%)\\n -')\n",
    "print(f'Validation data - {X_valid.shape[1]} samples ({valid_size*100}%)\\n -')\n",
    "print(f'Training data - {X_test.shape[1]} samples ({round((1-(valid_size+train_size))*100)}%)')"
   ]
  },
  {
   "cell_type": "code",
   "execution_count": 51,
   "id": "b5557c68",
   "metadata": {},
   "outputs": [
    {
     "name": "stdout",
     "output_type": "stream",
     "text": [
      "Epoch 1 Iteration 0/2625\n",
      "Accuracy: 0.094\n",
      "-\n",
      "Epoch 1 Iteration 25/2625\n",
      "Accuracy: 0.283\n",
      "-\n",
      "Epoch 1 Iteration 50/2625\n",
      "Accuracy: 0.395\n",
      "-\n",
      "Epoch 1 Iteration 75/2625\n",
      "Accuracy: 0.582\n",
      "-\n",
      "Epoch 1 Iteration 100/2625\n",
      "Accuracy: 0.686\n",
      "-\n",
      "Epoch 1 Iteration 125/2625\n",
      "Accuracy: 0.762\n",
      "-\n",
      "Epoch 1 Iteration 150/2625\n",
      "Accuracy: 0.783\n",
      "-\n",
      "Epoch 1 Iteration 175/2625\n",
      "Accuracy: 0.787\n",
      "-\n",
      "Epoch 1 Iteration 200/2625\n",
      "Accuracy: 0.812\n",
      "-\n",
      "Epoch 1 Iteration 225/2625\n",
      "Accuracy: 0.84\n",
      "-\n",
      "Epoch 1 Iteration 250/2625\n",
      "Accuracy: 0.841\n",
      "-\n",
      "Epoch 1 Iteration 275/2625\n",
      "Accuracy: 0.843\n",
      "-\n",
      "Epoch 1 Iteration 300/2625\n",
      "Accuracy: 0.849\n",
      "-\n",
      "Epoch 1 Iteration 325/2625\n",
      "Accuracy: 0.855\n",
      "-\n",
      "Epoch 1 Iteration 350/2625\n",
      "Accuracy: 0.862\n",
      "-\n",
      "Epoch 1 Iteration 375/2625\n",
      "Accuracy: 0.875\n",
      "-\n",
      "Epoch 1 Iteration 400/2625\n",
      "Accuracy: 0.882\n",
      "-\n",
      "Epoch 1 Iteration 425/2625\n",
      "Accuracy: 0.879\n",
      "-\n",
      "Epoch 1 Iteration 450/2625\n",
      "Accuracy: 0.887\n",
      "-\n",
      "Epoch 1 Iteration 475/2625\n",
      "Accuracy: 0.885\n",
      "-\n",
      "Epoch 1 Iteration 500/2625\n",
      "Accuracy: 0.892\n",
      "-\n",
      "Epoch 2 Iteration 525/2625\n",
      "Accuracy: 0.895\n",
      "-\n",
      "Epoch 2 Iteration 550/2625\n",
      "Accuracy: 0.898\n",
      "-\n",
      "Epoch 2 Iteration 575/2625\n",
      "Accuracy: 0.901\n",
      "-\n",
      "Epoch 2 Iteration 600/2625\n",
      "Accuracy: 0.894\n",
      "-\n",
      "Epoch 2 Iteration 625/2625\n",
      "Accuracy: 0.899\n",
      "-\n",
      "Epoch 2 Iteration 650/2625\n",
      "Accuracy: 0.902\n",
      "-\n",
      "Epoch 2 Iteration 675/2625\n",
      "Accuracy: 0.909\n",
      "-\n",
      "Epoch 2 Iteration 700/2625\n",
      "Accuracy: 0.91\n",
      "-\n",
      "Epoch 2 Iteration 725/2625\n",
      "Accuracy: 0.908\n",
      "-\n",
      "Epoch 2 Iteration 750/2625\n",
      "Accuracy: 0.913\n",
      "-\n",
      "Epoch 2 Iteration 775/2625\n",
      "Accuracy: 0.914\n",
      "-\n",
      "Epoch 2 Iteration 800/2625\n",
      "Accuracy: 0.911\n",
      "-\n",
      "Epoch 2 Iteration 825/2625\n",
      "Accuracy: 0.913\n",
      "-\n",
      "Epoch 2 Iteration 850/2625\n",
      "Accuracy: 0.918\n",
      "-\n",
      "Epoch 2 Iteration 875/2625\n",
      "Accuracy: 0.914\n",
      "-\n",
      "Epoch 2 Iteration 900/2625\n",
      "Accuracy: 0.92\n",
      "-\n",
      "Epoch 2 Iteration 925/2625\n",
      "Accuracy: 0.92\n",
      "-\n",
      "Epoch 2 Iteration 950/2625\n",
      "Accuracy: 0.914\n",
      "-\n",
      "Epoch 2 Iteration 975/2625\n",
      "Accuracy: 0.924\n",
      "-\n",
      "Epoch 2 Iteration 1000/2625\n",
      "Accuracy: 0.919\n",
      "-\n",
      "Epoch 2 Iteration 1025/2625\n",
      "Accuracy: 0.92\n",
      "-\n",
      "Epoch 3 Iteration 1050/2625\n",
      "Accuracy: 0.921\n",
      "-\n",
      "Epoch 3 Iteration 1075/2625\n",
      "Accuracy: 0.925\n",
      "-\n",
      "Epoch 3 Iteration 1100/2625\n",
      "Accuracy: 0.925\n",
      "-\n",
      "Epoch 3 Iteration 1125/2625\n",
      "Accuracy: 0.911\n",
      "-\n",
      "Epoch 3 Iteration 1150/2625\n",
      "Accuracy: 0.925\n",
      "-\n",
      "Epoch 3 Iteration 1175/2625\n",
      "Accuracy: 0.922\n",
      "-\n",
      "Epoch 3 Iteration 1200/2625\n",
      "Accuracy: 0.925\n",
      "-\n",
      "Epoch 3 Iteration 1225/2625\n",
      "Accuracy: 0.932\n",
      "-\n",
      "Epoch 3 Iteration 1250/2625\n",
      "Accuracy: 0.923\n",
      "-\n",
      "Epoch 3 Iteration 1275/2625\n",
      "Accuracy: 0.928\n",
      "-\n",
      "Epoch 3 Iteration 1300/2625\n",
      "Accuracy: 0.927\n",
      "-\n",
      "Epoch 3 Iteration 1325/2625\n",
      "Accuracy: 0.928\n",
      "-\n",
      "Epoch 3 Iteration 1350/2625\n",
      "Accuracy: 0.93\n",
      "-\n",
      "Epoch 3 Iteration 1375/2625\n",
      "Accuracy: 0.93\n",
      "-\n",
      "Epoch 3 Iteration 1400/2625\n",
      "Accuracy: 0.929\n",
      "-\n",
      "Epoch 3 Iteration 1425/2625\n",
      "Accuracy: 0.934\n",
      "-\n",
      "Epoch 3 Iteration 1450/2625\n",
      "Accuracy: 0.934\n",
      "-\n",
      "Epoch 3 Iteration 1475/2625\n",
      "Accuracy: 0.925\n",
      "-\n",
      "Epoch 3 Iteration 1500/2625\n",
      "Accuracy: 0.93\n",
      "-\n",
      "Epoch 3 Iteration 1525/2625\n",
      "Accuracy: 0.927\n",
      "-\n",
      "Epoch 3 Iteration 1550/2625\n",
      "Accuracy: 0.932\n",
      "-\n",
      "Epoch 4 Iteration 1575/2625\n",
      "Accuracy: 0.93\n",
      "-\n",
      "Epoch 4 Iteration 1600/2625\n",
      "Accuracy: 0.935\n",
      "-\n",
      "Epoch 4 Iteration 1625/2625\n",
      "Accuracy: 0.935\n",
      "-\n",
      "Epoch 4 Iteration 1650/2625\n",
      "Accuracy: 0.916\n",
      "-\n",
      "Epoch 4 Iteration 1675/2625\n",
      "Accuracy: 0.934\n",
      "-\n",
      "Epoch 4 Iteration 1700/2625\n",
      "Accuracy: 0.93\n",
      "-\n",
      "Epoch 4 Iteration 1725/2625\n",
      "Accuracy: 0.935\n",
      "-\n",
      "Epoch 4 Iteration 1750/2625\n",
      "Accuracy: 0.938\n",
      "-\n",
      "Epoch 4 Iteration 1775/2625\n",
      "Accuracy: 0.928\n",
      "-\n",
      "Epoch 4 Iteration 1800/2625\n",
      "Accuracy: 0.938\n",
      "-\n",
      "Epoch 4 Iteration 1825/2625\n",
      "Accuracy: 0.937\n",
      "-\n",
      "Epoch 4 Iteration 1850/2625\n",
      "Accuracy: 0.938\n",
      "-\n",
      "Epoch 4 Iteration 1875/2625\n",
      "Accuracy: 0.937\n",
      "-\n",
      "Epoch 4 Iteration 1900/2625\n",
      "Accuracy: 0.939\n",
      "-\n",
      "Epoch 4 Iteration 1925/2625\n",
      "Accuracy: 0.934\n",
      "-\n",
      "Epoch 4 Iteration 1950/2625\n",
      "Accuracy: 0.939\n",
      "-\n",
      "Epoch 4 Iteration 1975/2625\n",
      "Accuracy: 0.941\n",
      "-\n",
      "Epoch 4 Iteration 2000/2625\n",
      "Accuracy: 0.93\n",
      "-\n",
      "Epoch 4 Iteration 2025/2625\n",
      "Accuracy: 0.939\n",
      "-\n",
      "Epoch 4 Iteration 2050/2625\n",
      "Accuracy: 0.937\n",
      "-\n",
      "Epoch 4 Iteration 2075/2625\n",
      "Accuracy: 0.936\n",
      "-\n",
      "Epoch 5 Iteration 2100/2625\n",
      "Accuracy: 0.936\n",
      "-\n",
      "Epoch 5 Iteration 2125/2625\n",
      "Accuracy: 0.941\n",
      "-\n",
      "Epoch 5 Iteration 2150/2625\n",
      "Accuracy: 0.94\n",
      "-\n",
      "Epoch 5 Iteration 2175/2625\n",
      "Accuracy: 0.923\n",
      "-\n",
      "Epoch 5 Iteration 2200/2625\n",
      "Accuracy: 0.94\n",
      "-\n",
      "Epoch 5 Iteration 2225/2625\n",
      "Accuracy: 0.94\n",
      "-\n",
      "Epoch 5 Iteration 2250/2625\n",
      "Accuracy: 0.941\n",
      "-\n",
      "Epoch 5 Iteration 2275/2625\n",
      "Accuracy: 0.943\n",
      "-\n",
      "Epoch 5 Iteration 2300/2625\n",
      "Accuracy: 0.936\n",
      "-\n",
      "Epoch 5 Iteration 2325/2625\n",
      "Accuracy: 0.942\n",
      "-\n",
      "Epoch 5 Iteration 2350/2625\n",
      "Accuracy: 0.941\n",
      "-\n",
      "Epoch 5 Iteration 2375/2625\n",
      "Accuracy: 0.943\n",
      "-\n",
      "Epoch 5 Iteration 2400/2625\n",
      "Accuracy: 0.943\n",
      "-\n",
      "Epoch 5 Iteration 2425/2625\n",
      "Accuracy: 0.943\n",
      "-\n",
      "Epoch 5 Iteration 2450/2625\n",
      "Accuracy: 0.939\n",
      "-\n",
      "Epoch 5 Iteration 2475/2625\n",
      "Accuracy: 0.945\n",
      "-\n",
      "Epoch 5 Iteration 2500/2625\n",
      "Accuracy: 0.946\n",
      "-\n",
      "Epoch 5 Iteration 2525/2625\n",
      "Accuracy: 0.935\n",
      "-\n",
      "Epoch 5 Iteration 2550/2625\n",
      "Accuracy: 0.945\n",
      "-\n",
      "Epoch 5 Iteration 2575/2625\n",
      "Accuracy: 0.943\n",
      "-\n",
      "Epoch 5 Iteration 2600/2625\n",
      "Accuracy: 0.94\n",
      "-\n"
     ]
    }
   ],
   "source": [
    "from classes.Net import Net\n",
    "\n",
    "net = Net(random_state = 0)\n",
    "\n",
    "n_classes = 10\n",
    "\n",
    "net.add_layer(784, 32, 'sigmoid')\n",
    "net.add_layer(32, 10, 'sigmoid')\n",
    "net.add_layer(10, n_classes, 'softmax')\n",
    "\n",
    "learning_rate = 1\n",
    "epochs = 5\n",
    "batchsize = 64\n",
    "\n",
    "net.fit(X_train, y_train, X_valid, y_valid, \n",
    "        n_classes = n_classes, \n",
    "        batchsize = batchsize, \n",
    "        epochs = epochs, \n",
    "        learning_rate = learning_rate)\n"
   ]
  },
  {
   "cell_type": "code",
   "execution_count": 55,
   "id": "56d18171",
   "metadata": {},
   "outputs": [
    {
     "data": {
      "image/png": "[encoded data removed]",
      "text/plain": [
       "<Figure size 720x504 with 1 Axes>"
      ]
     },
     "metadata": {},
     "output_type": "display_data"
    }
   ],
   "source": [
    "plt.figure(figsize = (10,7))\n",
    "plt.scatter([i for i in range(len(net.acc_history))], list(net.acc_history), s = 10)\n",
    "plt.title('Accuracy per iteration')\n",
    "plt.xlabel('Iteration')\n",
    "plt.ylabel('Accuracy')\n",
    "plt.show()"
   ]
  },
  {
   "cell_type": "code",
   "execution_count": 63,
   "id": "a4cfe945",
   "metadata": {},
   "outputs": [],
   "source": [
    "predictions = utils.get_all_predictions(net, X_test, y_test)\n",
    "wrong_predictions = [(predicted, label, x) for predicted, label, x in predictions if predicted != label]\n",
    "right_predictions = [(predicted, label, x) for predicted, label, x in predictions if predicted == label]"
   ]
  },
  {
   "cell_type": "code",
   "execution_count": 64,
   "id": "dcc36058",
   "metadata": {},
   "outputs": [
    {
     "name": "stdout",
     "output_type": "stream",
     "text": [
      "Test set accuracy: 94.0%\n"
     ]
    }
   ],
   "source": [
    "print(f'Test set accuracy: {round(net.score(X_test, y_test), 2)*100}%')"
   ]
  },
  {
   "cell_type": "code",
   "execution_count": 67,
   "id": "3bee8132",
   "metadata": {
    "scrolled": false
   },
   "outputs": [
    {
     "name": "stdout",
     "output_type": "stream",
     "text": [
      "Prediction:  8\n",
      "Label:  1\n"
     ]
    },
    {
     "data": {
      "image/png": "[encoded data removed]",
      "text/plain": [
       "<Figure size 432x288 with 1 Axes>"
      ]
     },
     "metadata": {},
     "output_type": "display_data"
    },
    {
     "name": "stdout",
     "output_type": "stream",
     "text": [
      "Prediction:  5\n",
      "Label:  9\n"
     ]
    },
    {
     "data": {
      "image/png": "[encoded data removed]",
      "text/plain": [
       "<Figure size 432x288 with 1 Axes>"
      ]
     },
     "metadata": {},
     "output_type": "display_data"
    },
    {
     "name": "stdout",
     "output_type": "stream",
     "text": [
      "Prediction:  3\n",
      "Label:  5\n"
     ]
    },
    {
     "data": {
      "image/png": "[encoded data removed]",
      "text/plain": [
       "<Figure size 432x288 with 1 Axes>"
      ]
     },
     "metadata": {},
     "output_type": "display_data"
    },
    {
     "name": "stdout",
     "output_type": "stream",
     "text": [
      "Prediction:  9\n",
      "Label:  7\n"
     ]
    },
    {
     "data": {
      "image/png": "[encoded data removed]",
      "text/plain": [
       "<Figure size 432x288 with 1 Axes>"
      ]
     },
     "metadata": {},
     "output_type": "display_data"
    },
    {
     "name": "stdout",
     "output_type": "stream",
     "text": [
      "Prediction:  7\n",
      "Label:  3\n"
     ]
    },
    {
     "data": {
      "image/png": "[encoded data removed]",
      "text/plain": [
       "<Figure size 432x288 with 1 Axes>"
      ]
     },
     "metadata": {},
     "output_type": "display_data"
    },
    {
     "name": "stdout",
     "output_type": "stream",
     "text": [
      "Prediction:  4\n",
      "Label:  9\n"
     ]
    },
    {
     "data": {
      "image/png": "[encoded data removed]",
      "text/plain": [
       "<Figure size 432x288 with 1 Axes>"
      ]
     },
     "metadata": {},
     "output_type": "display_data"
    },
    {
     "name": "stdout",
     "output_type": "stream",
     "text": [
      "Prediction:  8\n",
      "Label:  9\n"
     ]
    },
    {
     "data": {
      "image/png": "[encoded data removed]",
      "text/plain": [
       "<Figure size 432x288 with 1 Axes>"
      ]
     },
     "metadata": {},
     "output_type": "display_data"
    },
    {
     "name": "stdout",
     "output_type": "stream",
     "text": [
      "Prediction:  6\n",
      "Label:  2\n"
     ]
    },
    {
     "data": {
      "image/png": "[encoded data removed]",
      "text/plain": [
       "<Figure size 432x288 with 1 Axes>"
      ]
     },
     "metadata": {},
     "output_type": "display_data"
    },
    {
     "name": "stdout",
     "output_type": "stream",
     "text": [
      "Prediction:  4\n",
      "Label:  8\n"
     ]
    },
    {
     "data": {
      "image/png": "[encoded data removed]",
      "text/plain": [
       "<Figure size 432x288 with 1 Axes>"
      ]
     },
     "metadata": {},
     "output_type": "display_data"
    },
    {
     "name": "stdout",
     "output_type": "stream",
     "text": [
      "Prediction:  4\n",
      "Label:  9\n"
     ]
    },
    {
     "data": {
      "image/png": "[encoded data removed]",
      "text/plain": [
       "<Figure size 432x288 with 1 Axes>"
      ]
     },
     "metadata": {},
     "output_type": "display_data"
    }
   ],
   "source": [
    "for prediction, label, x in wrong_predictions[:10]:\n",
    "    print('Prediction: ', prediction)\n",
    "    print('Label: ', label)\n",
    "    plt.imshow(x.reshape((28,28)) * 255)\n",
    "    plt.gray()\n",
    "    plt.show()"
   ]
  }
 ],
 "metadata": {
  "kernelspec": {
   "display_name": "Python 3 (ipykernel)",
   "language": "python",
   "name": "python3"
  },
  "language_info": {
   "codemirror_mode": {
    "name": "ipython",
    "version": 3
   },
   "file_extension": ".py",
   "mimetype": "text/x-python",
   "name": "python",
   "nbconvert_exporter": "python",
   "pygments_lexer": "ipython3",
   "version": "3.8.5"
  }
 },
 "nbformat": 4,
 "nbformat_minor": 5
}
