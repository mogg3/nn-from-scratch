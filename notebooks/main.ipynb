{
 "cells": [
  {
   "cell_type": "code",
   "execution_count": 16,
   "id": "d3a7e92b",
   "metadata": {},
   "outputs": [],
   "source": [
    "import os\n",
    "import sys\n",
    "nb_dir = os.path.split(os.getcwd())[0]\n",
    "if nb_dir not in sys.path:\n",
    "    sys.path.append(nb_dir)"
   ]
  },
  {
   "cell_type": "code",
   "execution_count": 17,
   "id": "79142928",
   "metadata": {},
   "outputs": [],
   "source": [
    "import utils\n",
    "import pandas as pd\n",
    "import matplotlib.pyplot as plt\n",
    "\n",
    "plt.style.use('ggplot')"
   ]
  },
  {
   "cell_type": "code",
   "execution_count": 20,
   "id": "d5327b47",
   "metadata": {},
   "outputs": [
    {
     "name": "stdout",
     "output_type": "stream",
     "text": [
      "Training data - 33600 samples (80.0%)\n",
      " -\n",
      "Validation data - 4200 samples (10.0%)\n",
      " -\n",
      "Training data - 4200 samples (10%)\n"
     ]
    }
   ],
   "source": [
    "data = pd.read_csv('../data/mnist_digits.csv')\n",
    "\n",
    "train_size = .8\n",
    "valid_size = .1\n",
    "\n",
    "X_train, y_train, X_test, y_test, X_valid, y_valid = utils.train_test_valid_split(data, \n",
    "                                                                            train_size = train_size, \n",
    "                                                                            valid_size = valid_size, \n",
    "                                                                            random_state = 0)\n",
    "\n",
    "print(f'Training data - {X_train.shape[1]} samples ({train_size*100}%)\\n -')\n",
    "print(f'Validation data - {X_valid.shape[1]} samples ({valid_size*100}%)\\n -')\n",
    "print(f'Training data - {X_test.shape[1]} samples ({round((1-(valid_size+train_size))*100)}%)')"
   ]
  },
  {
   "cell_type": "code",
   "execution_count": 21,
   "id": "b5557c68",
   "metadata": {
    "scrolled": true
   },
   "outputs": [
    {
     "name": "stdout",
     "output_type": "stream",
     "text": [
      "Epoch 1 Iteration 0/2625\n",
      "Accuracy: 0.094\n",
      "Loss: 2.5171325329828402\n",
      "-\n",
      "Epoch 1 Iteration 25/2625\n",
      "Accuracy: 0.283\n",
      "Loss: 2.103667802816447\n",
      "-\n",
      "Epoch 1 Iteration 50/2625\n",
      "Accuracy: 0.395\n",
      "Loss: 1.7856275447392964\n",
      "-\n",
      "Epoch 1 Iteration 75/2625\n",
      "Accuracy: 0.582\n",
      "Loss: 1.2255329623334625\n",
      "-\n",
      "Epoch 1 Iteration 100/2625\n",
      "Accuracy: 0.686\n",
      "Loss: 1.1923506917484088\n",
      "-\n",
      "Epoch 1 Iteration 125/2625\n",
      "Accuracy: 0.762\n",
      "Loss: 1.023073089031056\n",
      "-\n",
      "Epoch 1 Iteration 150/2625\n",
      "Accuracy: 0.783\n",
      "Loss: 0.6915318315116141\n",
      "-\n",
      "Epoch 1 Iteration 175/2625\n",
      "Accuracy: 0.787\n",
      "Loss: 0.5696012948291759\n",
      "-\n",
      "Epoch 1 Iteration 200/2625\n",
      "Accuracy: 0.812\n",
      "Loss: 0.7750726331458018\n",
      "-\n",
      "Epoch 1 Iteration 225/2625\n",
      "Accuracy: 0.84\n",
      "Loss: 0.617388174966981\n",
      "-\n",
      "Epoch 1 Iteration 250/2625\n",
      "Accuracy: 0.841\n",
      "Loss: 0.5964584374873872\n",
      "-\n",
      "Epoch 1 Iteration 275/2625\n",
      "Accuracy: 0.843\n",
      "Loss: 0.4686851623130062\n",
      "-\n",
      "Epoch 1 Iteration 300/2625\n",
      "Accuracy: 0.849\n",
      "Loss: 0.507446929094637\n",
      "-\n",
      "Epoch 1 Iteration 325/2625\n",
      "Accuracy: 0.855\n",
      "Loss: 0.5557811956060414\n",
      "-\n",
      "Epoch 1 Iteration 350/2625\n",
      "Accuracy: 0.862\n",
      "Loss: 0.48893611859200126\n",
      "-\n",
      "Epoch 1 Iteration 375/2625\n",
      "Accuracy: 0.875\n",
      "Loss: 0.3207412647159647\n",
      "-\n",
      "Epoch 1 Iteration 400/2625\n",
      "Accuracy: 0.882\n",
      "Loss: 0.40411809982841507\n",
      "-\n",
      "Epoch 1 Iteration 425/2625\n",
      "Accuracy: 0.879\n",
      "Loss: 0.5129100436602743\n",
      "-\n",
      "Epoch 1 Iteration 450/2625\n",
      "Accuracy: 0.887\n",
      "Loss: 0.3957412436968641\n",
      "-\n",
      "Epoch 1 Iteration 475/2625\n",
      "Accuracy: 0.885\n",
      "Loss: 0.4014740522118785\n",
      "-\n",
      "Epoch 1 Iteration 500/2625\n",
      "Accuracy: 0.892\n",
      "Loss: 0.5828549377247303\n",
      "-\n",
      "Epoch 2 Iteration 525/2625\n",
      "Accuracy: 0.895\n",
      "Loss: 0.3328765988355998\n",
      "-\n",
      "Epoch 2 Iteration 550/2625\n",
      "Accuracy: 0.898\n",
      "Loss: 0.597956814089317\n",
      "-\n",
      "Epoch 2 Iteration 575/2625\n",
      "Accuracy: 0.901\n",
      "Loss: 0.4732039677930984\n",
      "-\n",
      "Epoch 2 Iteration 600/2625\n",
      "Accuracy: 0.894\n",
      "Loss: 0.30185056971034324\n",
      "-\n",
      "Epoch 2 Iteration 625/2625\n",
      "Accuracy: 0.899\n",
      "Loss: 0.29128891521187233\n",
      "-\n",
      "Epoch 2 Iteration 650/2625\n",
      "Accuracy: 0.902\n",
      "Loss: 0.38065452225638774\n",
      "-\n",
      "Epoch 2 Iteration 675/2625\n",
      "Accuracy: 0.909\n",
      "Loss: 0.12779753429513663\n",
      "-\n",
      "Epoch 2 Iteration 700/2625\n",
      "Accuracy: 0.91\n",
      "Loss: 0.22021845185172864\n",
      "-\n",
      "Epoch 2 Iteration 725/2625\n",
      "Accuracy: 0.908\n",
      "Loss: 0.363830049405444\n",
      "-\n",
      "Epoch 2 Iteration 750/2625\n",
      "Accuracy: 0.913\n",
      "Loss: 0.3402920223165977\n",
      "-\n",
      "Epoch 2 Iteration 775/2625\n",
      "Accuracy: 0.914\n",
      "Loss: 0.30383718024645845\n",
      "-\n",
      "Epoch 2 Iteration 800/2625\n",
      "Accuracy: 0.911\n",
      "Loss: 0.162824710773586\n",
      "-\n",
      "Epoch 2 Iteration 825/2625\n",
      "Accuracy: 0.913\n",
      "Loss: 0.33030149802073294\n",
      "-\n",
      "Epoch 2 Iteration 850/2625\n",
      "Accuracy: 0.918\n",
      "Loss: 0.24274433780019167\n",
      "-\n",
      "Epoch 2 Iteration 875/2625\n",
      "Accuracy: 0.914\n",
      "Loss: 0.27893674060065765\n",
      "-\n",
      "Epoch 2 Iteration 900/2625\n",
      "Accuracy: 0.92\n",
      "Loss: 0.15156478855871267\n",
      "-\n",
      "Epoch 2 Iteration 925/2625\n",
      "Accuracy: 0.92\n",
      "Loss: 0.19094838719759472\n",
      "-\n",
      "Epoch 2 Iteration 950/2625\n",
      "Accuracy: 0.914\n",
      "Loss: 0.3569437044314609\n",
      "-\n",
      "Epoch 2 Iteration 975/2625\n",
      "Accuracy: 0.924\n",
      "Loss: 0.2545640750755806\n",
      "-\n",
      "Epoch 2 Iteration 1000/2625\n",
      "Accuracy: 0.919\n",
      "Loss: 0.3048800080501801\n",
      "-\n",
      "Epoch 2 Iteration 1025/2625\n",
      "Accuracy: 0.92\n",
      "Loss: 0.3523693276503141\n",
      "-\n",
      "Epoch 3 Iteration 1050/2625\n",
      "Accuracy: 0.921\n",
      "Loss: 0.21040223911032763\n",
      "-\n",
      "Epoch 3 Iteration 1075/2625\n",
      "Accuracy: 0.925\n",
      "Loss: 0.44373277044059223\n",
      "-\n",
      "Epoch 3 Iteration 1100/2625\n",
      "Accuracy: 0.925\n",
      "Loss: 0.3171969110242045\n",
      "-\n",
      "Epoch 3 Iteration 1125/2625\n",
      "Accuracy: 0.911\n",
      "Loss: 0.26086087443447115\n",
      "-\n",
      "Epoch 3 Iteration 1150/2625\n",
      "Accuracy: 0.925\n",
      "Loss: 0.1977892679986822\n",
      "-\n",
      "Epoch 3 Iteration 1175/2625\n",
      "Accuracy: 0.922\n",
      "Loss: 0.25715039060865175\n",
      "-\n",
      "Epoch 3 Iteration 1200/2625\n",
      "Accuracy: 0.925\n",
      "Loss: 0.11802851721920027\n",
      "-\n",
      "Epoch 3 Iteration 1225/2625\n",
      "Accuracy: 0.932\n",
      "Loss: 0.1708418292272391\n",
      "-\n",
      "Epoch 3 Iteration 1250/2625\n",
      "Accuracy: 0.923\n",
      "Loss: 0.2772538496788572\n",
      "-\n",
      "Epoch 3 Iteration 1275/2625\n",
      "Accuracy: 0.928\n",
      "Loss: 0.2891811627660419\n",
      "-\n",
      "Epoch 3 Iteration 1300/2625\n",
      "Accuracy: 0.927\n",
      "Loss: 0.19644668939186902\n",
      "-\n",
      "Epoch 3 Iteration 1325/2625\n",
      "Accuracy: 0.928\n",
      "Loss: 0.06963706827499928\n",
      "-\n",
      "Epoch 3 Iteration 1350/2625\n",
      "Accuracy: 0.93\n",
      "Loss: 0.2580349009250562\n",
      "-\n",
      "Epoch 3 Iteration 1375/2625\n",
      "Accuracy: 0.93\n",
      "Loss: 0.16060032763256255\n",
      "-\n",
      "Epoch 3 Iteration 1400/2625\n",
      "Accuracy: 0.929\n",
      "Loss: 0.21091427483045277\n",
      "-\n",
      "Epoch 3 Iteration 1425/2625\n",
      "Accuracy: 0.934\n",
      "Loss: 0.09595671367536998\n",
      "-\n",
      "Epoch 3 Iteration 1450/2625\n",
      "Accuracy: 0.934\n",
      "Loss: 0.11819555222583591\n",
      "-\n",
      "Epoch 3 Iteration 1475/2625\n",
      "Accuracy: 0.925\n",
      "Loss: 0.2810455728250859\n",
      "-\n",
      "Epoch 3 Iteration 1500/2625\n",
      "Accuracy: 0.93\n",
      "Loss: 0.1867127603447874\n",
      "-\n",
      "Epoch 3 Iteration 1525/2625\n",
      "Accuracy: 0.927\n",
      "Loss: 0.21874649561558793\n",
      "-\n",
      "Epoch 3 Iteration 1550/2625\n",
      "Accuracy: 0.932\n",
      "Loss: 0.2391309353400935\n",
      "-\n",
      "Epoch 4 Iteration 1575/2625\n",
      "Accuracy: 0.93\n",
      "Loss: 0.16496313635406043\n",
      "-\n",
      "Epoch 4 Iteration 1600/2625\n",
      "Accuracy: 0.935\n",
      "Loss: 0.3240171226231894\n",
      "-\n",
      "Epoch 4 Iteration 1625/2625\n",
      "Accuracy: 0.935\n",
      "Loss: 0.24417929759711232\n",
      "-\n",
      "Epoch 4 Iteration 1650/2625\n",
      "Accuracy: 0.916\n",
      "Loss: 0.22394422137670672\n",
      "-\n",
      "Epoch 4 Iteration 1675/2625\n",
      "Accuracy: 0.934\n",
      "Loss: 0.17737757486479092\n",
      "-\n",
      "Epoch 4 Iteration 1700/2625\n",
      "Accuracy: 0.93\n",
      "Loss: 0.18037300752890492\n",
      "-\n",
      "Epoch 4 Iteration 1725/2625\n",
      "Accuracy: 0.935\n",
      "Loss: 0.11541498202278012\n",
      "-\n",
      "Epoch 4 Iteration 1750/2625\n",
      "Accuracy: 0.938\n",
      "Loss: 0.14539541196191738\n",
      "-\n",
      "Epoch 4 Iteration 1775/2625\n",
      "Accuracy: 0.928\n",
      "Loss: 0.22829918069790892\n",
      "-\n",
      "Epoch 4 Iteration 1800/2625\n",
      "Accuracy: 0.938\n",
      "Loss: 0.2563292200714497\n",
      "-\n",
      "Epoch 4 Iteration 1825/2625\n",
      "Accuracy: 0.937\n",
      "Loss: 0.17006980411928135\n",
      "-\n",
      "Epoch 4 Iteration 1850/2625\n",
      "Accuracy: 0.938\n",
      "Loss: 0.045885935852132916\n",
      "-\n",
      "Epoch 4 Iteration 1875/2625\n",
      "Accuracy: 0.937\n",
      "Loss: 0.24630300226526305\n",
      "-\n",
      "Epoch 4 Iteration 1900/2625\n",
      "Accuracy: 0.939\n",
      "Loss: 0.12995415283881087\n",
      "-\n",
      "Epoch 4 Iteration 1925/2625\n",
      "Accuracy: 0.934\n",
      "Loss: 0.17947704615834753\n",
      "-\n",
      "Epoch 4 Iteration 1950/2625\n",
      "Accuracy: 0.939\n",
      "Loss: 0.08274121368896259\n",
      "-\n",
      "Epoch 4 Iteration 1975/2625\n",
      "Accuracy: 0.941\n",
      "Loss: 0.07646492270197293\n",
      "-\n",
      "Epoch 4 Iteration 2000/2625\n",
      "Accuracy: 0.93\n",
      "Loss: 0.19996320593406053\n",
      "-\n",
      "Epoch 4 Iteration 2025/2625\n",
      "Accuracy: 0.939\n",
      "Loss: 0.12590758964343657\n",
      "-\n",
      "Epoch 4 Iteration 2050/2625\n",
      "Accuracy: 0.937\n",
      "Loss: 0.14864057473609177\n",
      "-\n",
      "Epoch 4 Iteration 2075/2625\n",
      "Accuracy: 0.936\n",
      "Loss: 0.1808074560552882\n",
      "-\n",
      "Epoch 5 Iteration 2100/2625\n",
      "Accuracy: 0.936\n",
      "Loss: 0.13114062232052284\n",
      "-\n",
      "Epoch 5 Iteration 2125/2625\n",
      "Accuracy: 0.941\n",
      "Loss: 0.25984993528470274\n",
      "-\n",
      "Epoch 5 Iteration 2150/2625\n",
      "Accuracy: 0.94\n",
      "Loss: 0.20511665940667428\n",
      "-\n",
      "Epoch 5 Iteration 2175/2625\n",
      "Accuracy: 0.923\n",
      "Loss: 0.17816989264409025\n",
      "-\n",
      "Epoch 5 Iteration 2200/2625\n",
      "Accuracy: 0.94\n",
      "Loss: 0.1434248159696848\n",
      "-\n",
      "Epoch 5 Iteration 2225/2625\n",
      "Accuracy: 0.94\n",
      "Loss: 0.15993097865116845\n",
      "-\n",
      "Epoch 5 Iteration 2250/2625\n",
      "Accuracy: 0.941\n",
      "Loss: 0.09770799215241943\n",
      "-\n",
      "Epoch 5 Iteration 2275/2625\n",
      "Accuracy: 0.943\n",
      "Loss: 0.12558977980215522\n",
      "-\n",
      "Epoch 5 Iteration 2300/2625\n",
      "Accuracy: 0.936\n",
      "Loss: 0.16356993094387287\n",
      "-\n",
      "Epoch 5 Iteration 2325/2625\n",
      "Accuracy: 0.942\n",
      "Loss: 0.24227738450631595\n",
      "-\n",
      "Epoch 5 Iteration 2350/2625\n",
      "Accuracy: 0.941\n",
      "Loss: 0.1476601789530236\n",
      "-\n",
      "Epoch 5 Iteration 2375/2625\n",
      "Accuracy: 0.943\n",
      "Loss: 0.03941228102130651\n",
      "-\n",
      "Epoch 5 Iteration 2400/2625\n",
      "Accuracy: 0.943\n",
      "Loss: 0.2439515365516746\n",
      "-\n",
      "Epoch 5 Iteration 2425/2625\n",
      "Accuracy: 0.943\n",
      "Loss: 0.105268449613553\n",
      "-\n",
      "Epoch 5 Iteration 2450/2625\n",
      "Accuracy: 0.939\n",
      "Loss: 0.16333748719470428\n",
      "-\n",
      "Epoch 5 Iteration 2475/2625\n",
      "Accuracy: 0.945\n",
      "Loss: 0.07568181205123758\n",
      "-\n",
      "Epoch 5 Iteration 2500/2625\n",
      "Accuracy: 0.946\n",
      "Loss: 0.056682522399441576\n",
      "-\n",
      "Epoch 5 Iteration 2525/2625\n",
      "Accuracy: 0.935\n",
      "Loss: 0.14148243712384084\n",
      "-\n",
      "Epoch 5 Iteration 2550/2625\n",
      "Accuracy: 0.945\n",
      "Loss: 0.10236314008246754\n",
      "-\n",
      "Epoch 5 Iteration 2575/2625\n",
      "Accuracy: 0.943\n",
      "Loss: 0.14470205892085108\n",
      "-\n",
      "Epoch 5 Iteration 2600/2625\n",
      "Accuracy: 0.94\n",
      "Loss: 0.1615560843344624\n",
      "-\n"
     ]
    }
   ],
   "source": [
    "from classes.Net import Net\n",
    "\n",
    "net = Net(random_state = 0)\n",
    "\n",
    "n_classes = 10\n",
    "\n",
    "net.add_layer(784, 32, 'sigmoid')\n",
    "net.add_layer(32, 10, 'sigmoid')\n",
    "net.add_layer(10, n_classes, 'softmax')\n",
    "\n",
    "learning_rate = 1\n",
    "epochs = 5\n",
    "batchsize = 64\n",
    "\n",
    "net.fit(X_train, y_train, X_valid, y_valid, \n",
    "        n_classes = n_classes, \n",
    "        batchsize = batchsize, \n",
    "        epochs = epochs, \n",
    "        learning_rate = learning_rate)\n"
   ]
  },
  {
   "cell_type": "code",
   "execution_count": 22,
   "id": "56d18171",
   "metadata": {},
   "outputs": [
    {
     "data": {
      "image/png": "[encoded data removed]",
      "text/plain": [
       "<Figure size 1080x432 with 2 Axes>"
      ]
     },
     "metadata": {},
     "output_type": "display_data"
    }
   ],
   "source": [
    "fig, (ax1, ax2) = plt.subplots(1, 2, figsize=(15,6))\n",
    "\n",
    "ax1.scatter([i for i in range(len(net.acc_history))], list(net.acc_history), s = 10)\n",
    "ax1.set_title('Accuracy per iteration')\n",
    "ax1.set_xlabel('Iteration')\n",
    "ax1.set_ylabel('Accuracy')\n",
    "\n",
    "ax2.scatter([i for i in range(len(net.loss_history))], list(net.loss_history), s = 10)\n",
    "ax2.set_title('Loss per iteration')\n",
    "ax2.set_xlabel('Iteration')\n",
    "ax2.set_ylabel('Loss')\n",
    "\n",
    "plt.show()\n"
   ]
  },
  {
   "cell_type": "code",
   "execution_count": 23,
   "id": "a4cfe945",
   "metadata": {},
   "outputs": [],
   "source": [
    "predictions = utils.get_all_predictions(net, X_test, y_test)\n",
    "wrong_predictions = [(predicted, label, x) for predicted, label, x in predictions if predicted != label]\n",
    "right_predictions = [(predicted, label, x) for predicted, label, x in predictions if predicted == label]"
   ]
  },
  {
   "cell_type": "code",
   "execution_count": 24,
   "id": "dcc36058",
   "metadata": {},
   "outputs": [
    {
     "name": "stdout",
     "output_type": "stream",
     "text": [
      "Test set accuracy: 94.0%\n"
     ]
    }
   ],
   "source": [
    "print(f'Test set accuracy: {round(net.score(X_test, y_test), 2)*100}%')"
   ]
  },
  {
   "cell_type": "code",
   "execution_count": 25,
   "id": "3bee8132",
   "metadata": {
    "scrolled": false
   },
   "outputs": [
    {
     "name": "stdout",
     "output_type": "stream",
     "text": [
      "Prediction:  8\n",
      "Label:  1\n"
     ]
    },
    {
     "data": {
      "image/png": "[encoded data removed]",
      "text/plain": [
       "<Figure size 432x288 with 1 Axes>"
      ]
     },
     "metadata": {},
     "output_type": "display_data"
    },
    {
     "name": "stdout",
     "output_type": "stream",
     "text": [
      "Prediction:  5\n",
      "Label:  9\n"
     ]
    },
    {
     "data": {
      "image/png": "[encoded data removed]",
      "text/plain": [
       "<Figure size 432x288 with 1 Axes>"
      ]
     },
     "metadata": {},
     "output_type": "display_data"
    },
    {
     "name": "stdout",
     "output_type": "stream",
     "text": [
      "Prediction:  3\n",
      "Label:  5\n"
     ]
    },
    {
     "data": {
      "image/png": "[encoded data removed]",
      "text/plain": [
       "<Figure size 432x288 with 1 Axes>"
      ]
     },
     "metadata": {},
     "output_type": "display_data"
    },
    {
     "name": "stdout",
     "output_type": "stream",
     "text": [
      "Prediction:  9\n",
      "Label:  7\n"
     ]
    },
    {
     "data": {
      "image/png": "[encoded data removed]",
      "text/plain": [
       "<Figure size 432x288 with 1 Axes>"
      ]
     },
     "metadata": {},
     "output_type": "display_data"
    },
    {
     "name": "stdout",
     "output_type": "stream",
     "text": [
      "Prediction:  7\n",
      "Label:  3\n"
     ]
    },
    {
     "data": {
      "image/png": "[encoded data removed]",
      "text/plain": [
       "<Figure size 432x288 with 1 Axes>"
      ]
     },
     "metadata": {},
     "output_type": "display_data"
    },
    {
     "name": "stdout",
     "output_type": "stream",
     "text": [
      "Prediction:  4\n",
      "Label:  9\n"
     ]
    },
    {
     "data": {
      "image/png": "[encoded data removed]",
      "text/plain": [
       "<Figure size 432x288 with 1 Axes>"
      ]
     },
     "metadata": {},
     "output_type": "display_data"
    },
    {
     "name": "stdout",
     "output_type": "stream",
     "text": [
      "Prediction:  8\n",
      "Label:  9\n"
     ]
    },
    {
     "data": {
      "image/png": "[encoded data removed]",
      "text/plain": [
       "<Figure size 432x288 with 1 Axes>"
      ]
     },
     "metadata": {},
     "output_type": "display_data"
    },
    {
     "name": "stdout",
     "output_type": "stream",
     "text": [
      "Prediction:  6\n",
      "Label:  2\n"
     ]
    },
    {
     "data": {
      "image/png": "[encoded data removed]",
      "text/plain": [
       "<Figure size 432x288 with 1 Axes>"
      ]
     },
     "metadata": {},
     "output_type": "display_data"
    },
    {
     "name": "stdout",
     "output_type": "stream",
     "text": [
      "Prediction:  4\n",
      "Label:  8\n"
     ]
    },
    {
     "data": {
      "image/png": "[encoded data removed]",
      "text/plain": [
       "<Figure size 432x288 with 1 Axes>"
      ]
     },
     "metadata": {},
     "output_type": "display_data"
    },
    {
     "name": "stdout",
     "output_type": "stream",
     "text": [
      "Prediction:  4\n",
      "Label:  9\n"
     ]
    },
    {
     "data": {
      "image/png": "[encoded data removed]",
      "text/plain": [
       "<Figure size 432x288 with 1 Axes>"
      ]
     },
     "metadata": {},
     "output_type": "display_data"
    }
   ],
   "source": [
    "for prediction, label, x in wrong_predictions[:10]:\n",
    "    print('Prediction: ', prediction)\n",
    "    print('Label: ', label)\n",
    "    plt.imshow(x.reshape((28,28)) * 255)\n",
    "    plt.gray()\n",
    "    plt.show()"
   ]
  }
 ],
 "metadata": {
  "kernelspec": {
   "display_name": "Python 3 (ipykernel)",
   "language": "python",
   "name": "python3"
  },
  "language_info": {
   "codemirror_mode": {
    "name": "ipython",
    "version": 3
   },
   "file_extension": ".py",
   "mimetype": "text/x-python",
   "name": "python",
   "nbconvert_exporter": "python",
   "pygments_lexer": "ipython3",
   "version": "3.9.0"
  }
 },
 "nbformat": 4,
 "nbformat_minor": 5
}
